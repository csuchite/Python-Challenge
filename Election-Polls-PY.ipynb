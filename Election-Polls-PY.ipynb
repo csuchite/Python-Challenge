{
 "cells": [
  {
   "cell_type": "code",
   "execution_count": 2,
   "metadata": {},
   "outputs": [
    {
     "data": {
      "text/html": [
       "<div>\n",
       "<style scoped>\n",
       "    .dataframe tbody tr th:only-of-type {\n",
       "        vertical-align: middle;\n",
       "    }\n",
       "\n",
       "    .dataframe tbody tr th {\n",
       "        vertical-align: top;\n",
       "    }\n",
       "\n",
       "    .dataframe thead th {\n",
       "        text-align: right;\n",
       "    }\n",
       "</style>\n",
       "<table border=\"1\" class=\"dataframe\">\n",
       "  <thead>\n",
       "    <tr style=\"text-align: right;\">\n",
       "      <th></th>\n",
       "      <th>Voter ID</th>\n",
       "      <th>County</th>\n",
       "      <th>Candidate</th>\n",
       "    </tr>\n",
       "  </thead>\n",
       "  <tbody>\n",
       "    <tr>\n",
       "      <th>0</th>\n",
       "      <td>12864552</td>\n",
       "      <td>Marsh</td>\n",
       "      <td>Khan</td>\n",
       "    </tr>\n",
       "    <tr>\n",
       "      <th>1</th>\n",
       "      <td>17444633</td>\n",
       "      <td>Marsh</td>\n",
       "      <td>Correy</td>\n",
       "    </tr>\n",
       "    <tr>\n",
       "      <th>2</th>\n",
       "      <td>19330107</td>\n",
       "      <td>Marsh</td>\n",
       "      <td>Khan</td>\n",
       "    </tr>\n",
       "  </tbody>\n",
       "</table>\n",
       "</div>"
      ],
      "text/plain": [
       "   Voter ID County Candidate\n",
       "0  12864552  Marsh      Khan\n",
       "1  17444633  Marsh    Correy\n",
       "2  19330107  Marsh      Khan"
      ]
     },
     "execution_count": 2,
     "metadata": {},
     "output_type": "execute_result"
    }
   ],
   "source": [
    "import os\n",
    "import csv\n",
    "import pandas as pd\n",
    "import statistics\n",
    "\n",
    "#Create a database\n",
    "election_df = pd.read_csv(\"C:/Users/csuch/OneDrive/Desktop/UNC-CHA-DATA-PT-09-2019-U-C/03-Python/Homework/Instructions/PyPoll/Resources/election_data.csv\")\n",
    "\n",
    "#Print dataset to look at the data\n",
    "election_df.head(3)"
   ]
  },
  {
   "cell_type": "code",
   "execution_count": 3,
   "metadata": {},
   "outputs": [],
   "source": [
    "count = 0\n",
    "candidatelist = []\n",
    "unique_candidate = []\n",
    "vote_count = []\n",
    "vote_percent = []"
   ]
  },
  {
   "cell_type": "code",
   "execution_count": 4,
   "metadata": {},
   "outputs": [],
   "source": [
    "election_csv = os.path.join(\"C:/Users/csuch/OneDrive/Desktop/UNC-CHA-DATA-PT-09-2019-U-C/03-Python/Homework/Instructions/PyPoll/Resources/election_data.csv\")\n",
    "\n",
    "with open(election_csv, newline=\"\") as csvfile:\n",
    "    csvreader = csv.reader(csvfile, delimiter=\",\")\n",
    "    csv_header = next(csvreader)\n",
    "    # Conduct the ask\n",
    "    for row in csvreader:\n",
    "        # Count the total number of votes\n",
    "        count = count + 1\n",
    "        # Set the candidate names to candidatelist\n",
    "        candidatelist.append(row[2])\n",
    "        # Create a set from the candidatelist to get the unique candidate names\n",
    "    for x in set(candidatelist):\n",
    "        unique_candidate.append(x)\n",
    "        # y is the total number of votes per candidate\n",
    "        y = candidatelist.count(x)\n",
    "        vote_count.append(y)\n",
    "        # z is the percent of total votes per candidate\n",
    "        z = (y/count)*100\n",
    "        vote_percent.append(z)\n",
    "        \n",
    "    winning_vote_count = max(vote_count)\n",
    "    winner = unique_candidate[vote_count.index(winning_vote_count)]"
   ]
  },
  {
   "cell_type": "code",
   "execution_count": 5,
   "metadata": {},
   "outputs": [
    {
     "name": "stdout",
     "output_type": "stream",
     "text": [
      "-------------------------\n",
      "Election Results\n",
      "-------------------------\n",
      "Total Votes :3521001\n",
      "-------------------------\n",
      "Khan: 63.00001050837531% (2218231)\n",
      "Li: 13.999996023857989% (492940)\n",
      "O'Tooley: 2.999999147969569% (105630)\n",
      "Correy: 19.999994319797125% (704200)\n",
      "-------------------------\n",
      "The winner is: Khan\n",
      "-------------------------\n"
     ]
    }
   ],
   "source": [
    "print(\"-------------------------\")\n",
    "print(\"Election Results\")   \n",
    "print(\"-------------------------\")\n",
    "print(\"Total Votes :\" + str(count))    \n",
    "print(\"-------------------------\")\n",
    "for i in range(len(unique_candidate)):\n",
    "            print(unique_candidate[i] + \": \" + str(vote_percent[i]) +\"% (\" + str(vote_count[i])+ \")\")\n",
    "print(\"-------------------------\")\n",
    "print(\"The winner is: \" + winner)\n",
    "print(\"-------------------------\")"
   ]
  },
  {
   "cell_type": "code",
   "execution_count": 6,
   "metadata": {},
   "outputs": [],
   "source": [
    "with open('election_results.txt', 'w') as text:\n",
    "    text.write(\"Election Results\\n\")\n",
    "    text.write(\"---------------------------------------\\n\")\n",
    "    text.write(\"Total Vote: \" + str(count) + \"\\n\")\n",
    "    text.write(\"---------------------------------------\\n\")\n",
    "    for i in range(len(set(unique_candidate))):\n",
    "        text.write(unique_candidate[i] + \": \" + str(vote_percent[i]) +\"% (\" + str(vote_count[i]) + \")\\n\")\n",
    "    text.write(\"---------------------------------------\\n\")\n",
    "    text.write(\"The winner is: \" + winner + \"\\n\")\n",
    "    text.write(\"---------------------------------------\\n\")"
   ]
  },
  {
   "cell_type": "code",
   "execution_count": null,
   "metadata": {},
   "outputs": [],
   "source": []
  }
 ],
 "metadata": {
  "kernelspec": {
   "display_name": "Python 3",
   "language": "python",
   "name": "python3"
  },
  "language_info": {
   "codemirror_mode": {
    "name": "ipython",
    "version": 3
   },
   "file_extension": ".py",
   "mimetype": "text/x-python",
   "name": "python",
   "nbconvert_exporter": "python",
   "pygments_lexer": "ipython3",
   "version": "3.7.3"
  }
 },
 "nbformat": 4,
 "nbformat_minor": 2
}
